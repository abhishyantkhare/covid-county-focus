{
 "cells": [
  {
   "cell_type": "code",
   "execution_count": 81,
   "metadata": {},
   "outputs": [],
   "source": [
    "# imports\n",
    "import pandas as pd\n",
    "import matplotlib"
   ]
  },
  {
   "cell_type": "code",
   "execution_count": 82,
   "metadata": {},
   "outputs": [],
   "source": [
    "# file names\n",
    "ca_hospital_csv = \"../data/california_hospital_data.csv\"\n",
    "cases_county_csv = \"../data/us-counties.csv\""
   ]
  },
  {
   "cell_type": "code",
   "execution_count": 83,
   "metadata": {},
   "outputs": [],
   "source": [
    "# load csvs\n",
    "ca_hospital_df = pd.read_csv(ca_hospital_csv)\n",
    "cases_county_df = pd.read_csv(cases_county_csv)"
   ]
  },
  {
   "cell_type": "code",
   "execution_count": 84,
   "metadata": {},
   "outputs": [],
   "source": [
    "# initial data processing\n",
    "\n",
    "# make all strings uppercase for easier equality eval\n",
    "cases_county_df['county'] = cases_county_df['county'].str.upper()\n",
    "cases_county_df['state'] = cases_county_df['state'].str.upper()\n"
   ]
  },
  {
   "cell_type": "code",
   "execution_count": 85,
   "metadata": {},
   "outputs": [],
   "source": [
    "# generate number of beds by county\n",
    "beds_by_county_by_bed_type_df = ca_hospital_df.groupby(['COUNTY_NAME', 'BED_CAPACITY_TYPE'])[['BED_CAPACITY']].agg('sum').reset_index()\n",
    "beds_by_county_df = beds_by_county_by_bed_type_df.groupby(['COUNTY_NAME'])[['BED_CAPACITY']].agg('sum').reset_index()"
   ]
  },
  {
   "cell_type": "code",
   "execution_count": 88,
   "metadata": {},
   "outputs": [
    {
     "data": {
      "image/png": "[encoded data removed]",
      "text/plain": [
       "<Figure size 432x288 with 1 Axes>"
      ]
     },
     "metadata": {
      "needs_background": "light"
     },
     "output_type": "display_data"
    }
   ],
   "source": [
    "sf_df = cases_county_df.loc[cases_county_df['county'] == 'SAN FRANCISCO']\n",
    "sf_df.plot('date', 'cases')\n",
    "beds_by_county_df_sf = beds_by_county_df.loc[beds_by_county_df['COUNTY_NAME'] == 'SAN FRANCISCO']\n"
   ]
  },
  {
   "cell_type": "code",
   "execution_count": null,
   "metadata": {},
   "outputs": [],
   "source": []
  }
 ],
 "metadata": {
  "kernelspec": {
   "display_name": "Python 3",
   "language": "python",
   "name": "python3"
  },
  "language_info": {
   "codemirror_mode": {
    "name": "ipython",
    "version": 3
   },
   "file_extension": ".py",
   "mimetype": "text/x-python",
   "name": "python",
   "nbconvert_exporter": "python",
   "pygments_lexer": "ipython3",
   "version": "3.8.2"
  }
 },
 "nbformat": 4,
 "nbformat_minor": 4
}
